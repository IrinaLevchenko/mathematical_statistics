{
 "cells": [
  {
   "cell_type": "markdown",
   "id": "e995faf0",
   "metadata": {},
   "source": [
    "1. Известно, что генеральная совокупность распределена нормально\n",
    "со средним квадратическим отклонением, равным 16.\n",
    "Найти доверительный интервал для оценки математического ожидания a с надежностью 0.95,\n",
    "если выборочная средняя M = 80, а объем выборки n = 256."
   ]
  },
  {
   "cell_type": "code",
   "execution_count": 98,
   "id": "7667b6f0",
   "metadata": {},
   "outputs": [],
   "source": [
    "import numpy as np\n",
    "from scipy import stats"
   ]
  },
  {
   "cell_type": "code",
   "execution_count": 99,
   "id": "496f6ae7",
   "metadata": {},
   "outputs": [
    {
     "name": "stdout",
     "output_type": "stream",
     "text": [
      "Ответ: доверительный интервал (78.04; 81.96)\n"
     ]
    }
   ],
   "source": [
    "std = 16\n",
    "alpha = 1 - 0.95\n",
    "M_X = 80\n",
    "n = 256\n",
    "\n",
    "# Z(apha/2) = 1.96 нашла в таблице\n",
    "T1 = M_X - 1.96 * std / np.sqrt(n)\n",
    "T2 = M_X + 1.96 * std / np.sqrt(n)\n",
    "\n",
    "print(f'Ответ: доверительный интервал ({T1}; {T2})')"
   ]
  },
  {
   "cell_type": "code",
   "execution_count": 102,
   "id": "2e1a8bbe",
   "metadata": {},
   "outputs": [
    {
     "data": {
      "text/plain": [
       "-1.96"
      ]
     },
     "execution_count": 102,
     "metadata": {},
     "output_type": "execute_result"
    }
   ],
   "source": [
    "Z_half_alpha = stats.norm.ppf(alpha / 2)\n",
    "round(Z_half_alpha, 2)"
   ]
  },
  {
   "cell_type": "markdown",
   "id": "157d4a21",
   "metadata": {},
   "source": [
    "2. В результате 10 независимых измерений некоторой величины X, выполненных с одинаковой точностью,\n",
    "получены опытные данные: 6.9, 6.1, 6.2, 6.8, 7.5, 6.3, 6.4, 6.9, 6.7, 6.1\n",
    "Предполагая, что результаты измерений подчинены нормальному закону распределения вероятностей,\n",
    "оценить истинное значение величины X при помощи доверительного интервала, покрывающего это\n",
    "значение с доверительной вероятностью 0,95."
   ]
  },
  {
   "cell_type": "code",
   "execution_count": 105,
   "id": "8c34e8e8",
   "metadata": {},
   "outputs": [
    {
     "name": "stdout",
     "output_type": "stream",
     "text": [
      "Ответ: истинное значение величины X входит в доверительный интервал для среднего значения X (6.27; 6.91)\n"
     ]
    }
   ],
   "source": [
    "x = np.array((6.9, 6.1, 6.2, 6.8, 7.5, 6.3, 6.4, 6.9, 6.7, 6.1))\n",
    "std = np.std(x, ddof=1) \n",
    "M_X = np.mean(x)\n",
    "n = 10\n",
    "v = n-1\n",
    "alpha = 1 - 0.95\n",
    "\n",
    "# t(alpa/2) = 2.262 нашла в таблице \n",
    "T1 = M_X - 2.262 * std / np.sqrt(n)\n",
    "T2 = M_X + 2.262 * std / np.sqrt(n)\n",
    "\n",
    "print(f'Ответ: истинное значение величины X входит в доверительный интервал для среднего значения X ({round(T1, 2)}; {round(T2, 2)})')"
   ]
  },
  {
   "cell_type": "code",
   "execution_count": 110,
   "id": "95c6d85d",
   "metadata": {},
   "outputs": [
    {
     "data": {
      "text/plain": [
       "-2.262"
      ]
     },
     "execution_count": 110,
     "metadata": {},
     "output_type": "execute_result"
    }
   ],
   "source": [
    "t_half_alpha = stats.t.ppf(alpha / 2, v)\n",
    "round(t_half_alpha, 3)"
   ]
  },
  {
   "cell_type": "markdown",
   "id": "7919c1e9",
   "metadata": {},
   "source": [
    "3. Утверждается, что шарики для подшипников, изготовленные автоматическим станком, имеют средний диаметр 17 мм.\n",
    "Используя односторонний критерий с α=0,05, проверить эту гипотезу, если в выборке из n=100 шариков средний диаметр\n",
    "оказался равным 17.5 мм, а дисперсия известна и равна 4 мм."
   ]
  },
  {
   "cell_type": "code",
   "execution_count": 147,
   "id": "d8eeaf43",
   "metadata": {},
   "outputs": [
    {
     "name": "stdout",
     "output_type": "stream",
     "text": [
      "Принимается H1: mu > mu_0, шарики для подшипников, изготовленные автоматическим станком, имеют средний диаметр 17,5 мм\n"
     ]
    }
   ],
   "source": [
    "mu_0 = 17 \n",
    "mu = 17.5\n",
    "alpha = 0.05\n",
    "n = 100 \n",
    "std = np.sqrt(4)\n",
    "\n",
    "# H0: mu = mu_0\n",
    "# H1: mu > mu_0\n",
    "\n",
    "Z_counted = (mu - mu_0) / (std / np.sqrt(n))\n",
    "# Z_tabled посмотрела в таблице\n",
    "Z_tabled = 1.645\n",
    "\n",
    "if Z_counted < Z_tabled:\n",
    "    print(f'Принимается H0: mu = mu_0, шарики для подшипников, изготовленные автоматическим станком, имеют средний диаметр 17 мм')\n",
    "else:\n",
    "    print(f'Принимается H1: mu > mu_0, шарики для подшипников, изготовленные автоматическим станком, имеют средний диаметр 17,5 мм')"
   ]
  },
  {
   "cell_type": "code",
   "execution_count": 148,
   "id": "93a81bdd",
   "metadata": {},
   "outputs": [
    {
     "data": {
      "text/plain": [
       "1.645"
      ]
     },
     "execution_count": 148,
     "metadata": {},
     "output_type": "execute_result"
    }
   ],
   "source": [
    "Z_tabled = stats.norm.ppf(1 - alpha)\n",
    "round(Z_tabled, 3)"
   ]
  },
  {
   "cell_type": "markdown",
   "id": "68788a83",
   "metadata": {},
   "source": [
    "4. Продавец утверждает, что средний вес пачки печенья составляет 200 г.\n",
    "Из партии извлечена выборка из 10 пачек. Вес каждой пачки составляет:\n",
    "202, 203, 199, 197, 195, 201, 200, 204, 194, 190.\n",
    "Известно, что их веса распределены нормально.\n",
    "Верно ли утверждение продавца, если учитывать, что доверительная вероятность равна 99%?"
   ]
  },
  {
   "cell_type": "code",
   "execution_count": 149,
   "id": "0c986793",
   "metadata": {},
   "outputs": [
    {
     "name": "stdout",
     "output_type": "stream",
     "text": [
      "средний расчётный вес пачки печенья составляет 198.5г\n"
     ]
    }
   ],
   "source": [
    "mu_0 = 200\n",
    "x = np.array((202, 203, 199, 197, 195, 201, 200, 204, 194, 190))\n",
    "mu = np.mean(x)\n",
    "print(f'средний расчётный вес пачки печенья составляет {mu}г')"
   ]
  },
  {
   "cell_type": "code",
   "execution_count": 150,
   "id": "5abd4cba",
   "metadata": {},
   "outputs": [
    {
     "name": "stdout",
     "output_type": "stream",
     "text": [
      "Принимается H0: mu = mu_0, средний вес пачки печенья составляет 200 г\n"
     ]
    }
   ],
   "source": [
    "std = np.std(x, ddof=1)\n",
    "alpha = 1 - 0.99 \n",
    "n = 10\n",
    "v = 10 - 1\n",
    "\n",
    "# H0: mu = mu_0\n",
    "# H1: mu != mu_0\n",
    "\n",
    "t_counted = (mu - mu_0) / std / np.sqrt(n) \n",
    "# t_tabled(alpha/2) посмотрела в таблице\n",
    "t_tabled = 3.25\n",
    "\n",
    "if - t_tabled < t_counted < t_tabled:\n",
    "    print(f'Принимается H0: mu = mu_0, средний вес пачки печенья составляет 200 г')\n",
    "else:\n",
    "    print(f'Принимается H1: mu != mu_0, средний вес пачки печенья составляет 198.5 г')"
   ]
  },
  {
   "cell_type": "code",
   "execution_count": 151,
   "id": "ad64a978",
   "metadata": {},
   "outputs": [
    {
     "data": {
      "text/plain": [
       "-3.25"
      ]
     },
     "execution_count": 151,
     "metadata": {},
     "output_type": "execute_result"
    }
   ],
   "source": [
    "t_tabled = stats.t.ppf(alpha / 2, v)\n",
    "round(t_tabled, 3)"
   ]
  },
  {
   "cell_type": "code",
   "execution_count": 153,
   "id": "f8e3fcb0",
   "metadata": {},
   "outputs": [
    {
     "data": {
      "text/plain": [
       "Ttest_1sampResult(statistic=-1.0651074037450896, pvalue=0.31456660352472854)"
      ]
     },
     "execution_count": 153,
     "metadata": {},
     "output_type": "execute_result"
    }
   ],
   "source": [
    "stats.ttest_1samp(x, mu_0)"
   ]
  }
 ],
 "metadata": {
  "kernelspec": {
   "display_name": "Python 3 (ipykernel)",
   "language": "python",
   "name": "python3"
  },
  "language_info": {
   "codemirror_mode": {
    "name": "ipython",
    "version": 3
   },
   "file_extension": ".py",
   "mimetype": "text/x-python",
   "name": "python",
   "nbconvert_exporter": "python",
   "pygments_lexer": "ipython3",
   "version": "3.9.7"
  }
 },
 "nbformat": 4,
 "nbformat_minor": 5
}
