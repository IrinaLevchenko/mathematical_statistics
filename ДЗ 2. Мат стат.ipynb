{
 "cells": [
  {
   "cell_type": "markdown",
   "id": "e9934428",
   "metadata": {},
   "source": [
    "## Задание 1\n",
    "\n",
    "Вероятность того, что стрелок попадет в мишень, выстрелив один раз, равна 0.8. Стрелок выстрелил 100 раз. Найдите вероятность того, что стрелок попадет в цель ровно 85 раз."
   ]
  },
  {
   "cell_type": "code",
   "execution_count": 81,
   "id": "8c617cc5",
   "metadata": {},
   "outputs": [],
   "source": [
    "from math import factorial\n",
    "import numpy as np\n",
    "import math"
   ]
  },
  {
   "cell_type": "code",
   "execution_count": 92,
   "id": "2a12428f",
   "metadata": {},
   "outputs": [],
   "source": [
    "def combinations(n, k):\n",
    "    return (factorial(n) / (factorial(k) * factorial(n - k)))\n",
    "\n",
    "\n",
    "def bernoulli_formula(n, k, p):\n",
    "    return combinations(n, k) * p ** k * (1 - p) ** (n -k) \n",
    "\n",
    "\n",
    "def poisson_formula(n, m, p):\n",
    "    mu = n * p\n",
    "    return pow(math.e, -mu) * (mu ** m) / factorial(m)   "
   ]
  },
  {
   "cell_type": "code",
   "execution_count": 83,
   "id": "f6dc293c",
   "metadata": {},
   "outputs": [
    {
     "name": "stdout",
     "output_type": "stream",
     "text": [
      "Ответ: 0.0481\n"
     ]
    }
   ],
   "source": [
    "P = bernoulli_formula(100, 85, 0.8)\n",
    "\n",
    "print(f'Ответ: {round(P, 4)}')"
   ]
  },
  {
   "cell_type": "markdown",
   "id": "e36dbe56",
   "metadata": {},
   "source": [
    "## Задание 2 \n",
    "\n",
    "Вероятность того, что лампочка перегорит в течение первого дня эксплуатации, равна 0.0004. В жилом комплексе после ремонта в один день включили 5000 новых лампочек. Какова вероятность, что ни одна из них не перегорит в первый день? Какова вероятность, что перегорят ровно две?"
   ]
  },
  {
   "cell_type": "code",
   "execution_count": 84,
   "id": "86c12f72",
   "metadata": {},
   "outputs": [
    {
     "name": "stdout",
     "output_type": "stream",
     "text": [
      "Ответ: P(перегорит 0 лампочек) = 0.1353, P(перегорит 2 лампочеки) = 0.2707\n"
     ]
    }
   ],
   "source": [
    "P1 = poisson_formula(5000, 0, 0.0004)\n",
    "P2 = poisson_formula(5000, 2, 0.0004)\n",
    "\n",
    "print(f'Ответ: P(перегорит 0 лампочек) = {round(P1, 4)}, P(перегорит 2 лампочеки) = {round(P2, 4)}')"
   ]
  },
  {
   "cell_type": "markdown",
   "id": "7187215b",
   "metadata": {},
   "source": [
    "## Задание 3\n",
    "\n",
    "Монету подбросили 144 раза. Какова вероятность, что орел выпадет ровно 70 раз?"
   ]
  },
  {
   "cell_type": "code",
   "execution_count": 85,
   "id": "ff422ad5",
   "metadata": {},
   "outputs": [
    {
     "name": "stdout",
     "output_type": "stream",
     "text": [
      "Ответ: 0.0628\n"
     ]
    }
   ],
   "source": [
    "P = bernoulli_formula(144, 70, 0.5)\n",
    "\n",
    "print(f'Ответ: {round(P, 4)}')"
   ]
  },
  {
   "cell_type": "markdown",
   "id": "73d692dc",
   "metadata": {},
   "source": [
    "## Задание 4\n",
    "\n",
    "В первом ящике находится 10 мячей, из которых 7 - белые. Во втором ящике - 11 мячей, из которых 9 белых. Из каждого ящика вытаскивают случайным образом по два мяча.\n",
    "\n",
    "Какова вероятность того, что все мячи белые? "
   ]
  },
  {
   "cell_type": "code",
   "execution_count": 115,
   "id": "da7fd79f",
   "metadata": {},
   "outputs": [
    {
     "name": "stdout",
     "output_type": "stream",
     "text": [
      "Ответ: P(все мячи белые) = 0.3055\n"
     ]
    }
   ],
   "source": [
    "P_all_white = (combinations(7, 2) / combinations(10, 2)) * (combinations(9, 2) / combinations(11, 2))\n",
    "\n",
    "print(f'Ответ: P(все мячи белые) = {round(P_all_white, 4)}')"
   ]
  },
  {
   "cell_type": "markdown",
   "id": "47cfc3ab",
   "metadata": {},
   "source": [
    "Какова вероятность того, что ровно два мяча белые?"
   ]
  },
  {
   "cell_type": "code",
   "execution_count": 123,
   "id": "69bf548a",
   "metadata": {},
   "outputs": [
    {
     "name": "stdout",
     "output_type": "stream",
     "text": [
      "Ответ: P(два мяча белые) = 0.2048\n"
     ]
    }
   ],
   "source": [
    "P_2b_2w = (combinations(3, 2) / combinations(10, 2)) * (combinations(9, 2) / combinations(11, 2))\n",
    "P_2w_2b = (combinations(7, 2) / combinations(10, 2)) * (combinations(2, 2) / combinations(11, 2))\n",
    "P_1w1b_1b1w = ((combinations(7, 1) * combinations(3, 1)) / combinations(10, 2)) * ( (combinations(9, 1) * combinations(2, 1)) / combinations(11, 2) )\n",
    "\n",
    "P_two_white = P_2b_2w + P_2w_2b + P_1w1b_1b1w\n",
    "\n",
    "print(f'Ответ: P(два мяча белые) = {round(P_two_white, 4)}')"
   ]
  },
  {
   "cell_type": "markdown",
   "id": "2c7be2d5",
   "metadata": {},
   "source": [
    "Какова вероятность того, что хотя бы один мяч белый?"
   ]
  },
  {
   "cell_type": "code",
   "execution_count": 121,
   "id": "e24ed971",
   "metadata": {},
   "outputs": [
    {
     "name": "stdout",
     "output_type": "stream",
     "text": [
      "Ответ: P(хотя бы один мяч белый) = 0.9988\n"
     ]
    }
   ],
   "source": [
    "P_all_black = (combinations(3, 2) / combinations(10, 2)) * (combinations(2, 2) / combinations(11, 2))\n",
    "P_at_least_one_white = 1 - P_all_black\n",
    "\n",
    "print(f'Ответ: P(хотя бы один мяч белый) = {round(P_at_least_one_white, 4)}')"
   ]
  }
 ],
 "metadata": {
  "kernelspec": {
   "display_name": "Python 3 (ipykernel)",
   "language": "python",
   "name": "python3"
  },
  "language_info": {
   "codemirror_mode": {
    "name": "ipython",
    "version": 3
   },
   "file_extension": ".py",
   "mimetype": "text/x-python",
   "name": "python",
   "nbconvert_exporter": "python",
   "pygments_lexer": "ipython3",
   "version": "3.9.12"
  }
 },
 "nbformat": 4,
 "nbformat_minor": 5
}
