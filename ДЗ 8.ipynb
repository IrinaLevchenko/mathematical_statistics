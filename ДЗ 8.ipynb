{
 "cells": [
  {
   "cell_type": "code",
   "execution_count": 4,
   "id": "75a18000",
   "metadata": {},
   "outputs": [],
   "source": [
    "import numpy as np\n",
    "from scipy import stats"
   ]
  },
  {
   "cell_type": "markdown",
   "id": "24a7e771",
   "metadata": {},
   "source": [
    "1. Провести дисперсионный анализ для определения того, есть ли различия среднего роста среди взрослых футболистов, хоккеистов и штангистов. Даны значения роста в трех группах случайно выбранных спортсменов: Футболисты: 173, 175, 180, 178, 177, 185, 183, 182. Хоккеисты: 177, 179, 180, 188, 177, 172, 171, 184, 180. Штангисты: 172, 173, 169, 177, 166, 180, 178, 177, 172, 166, 170. alpha = 0.05."
   ]
  },
  {
   "cell_type": "code",
   "execution_count": 19,
   "id": "9c7e5b24",
   "metadata": {},
   "outputs": [],
   "source": [
    "footbal_pl = np.array([173, 175, 180, 178, 177, 185, 183, 182])\n",
    "chockey_pl = np.array([177, 179, 180, 188, 177, 172, 171, 184, 180])\n",
    "weightlifters = np.array([172, 173, 169, 177, 166, 180, 178, 177, 172, 166, 170])\n",
    "alpha = 0.05\n",
    "n = footbal_pl.size + chockey_pl.size + weightlifters.size\n",
    "k = 3"
   ]
  },
  {
   "cell_type": "code",
   "execution_count": 43,
   "id": "02319175",
   "metadata": {},
   "outputs": [
    {
     "name": "stdout",
     "output_type": "stream",
     "text": [
      "Принимаем гипотезу H1: статистически значимые различия в среднем росте взрослых спортсменов есть.\n"
     ]
    }
   ],
   "source": [
    "# H0: mu1 = mu2 = mu3\n",
    "# H1: \n",
    "#    H1.1: mu1 = mu2 \n",
    "#    H1.2: mu1 = mu3\n",
    "#    H1.3: mu2 = mu3\n",
    "\n",
    "F_critical = stats.f.ppf(1 - alpha, k - 1 , n - k )\n",
    "statistic, pvalue = stats.f_oneway(footbal_pl, chockey_pl, weightlifters)\n",
    "\n",
    "if (statistic > F_critical) & (pvalue > alpha):\n",
    "    print(f'Принимаем гипотезу H0: статистически значимых различий в среднем росте взрослых спортсменов нет.')\n",
    "else:\n",
    "    print(f'Принимаем гипотезу H1: статистически значимые различия в среднем росте взрослых спортсменов есть.')"
   ]
  },
  {
   "cell_type": "code",
   "execution_count": null,
   "id": "8706f4c1",
   "metadata": {},
   "outputs": [],
   "source": []
  }
 ],
 "metadata": {
  "kernelspec": {
   "display_name": "Python 3 (ipykernel)",
   "language": "python",
   "name": "python3"
  },
  "language_info": {
   "codemirror_mode": {
    "name": "ipython",
    "version": 3
   },
   "file_extension": ".py",
   "mimetype": "text/x-python",
   "name": "python",
   "nbconvert_exporter": "python",
   "pygments_lexer": "ipython3",
   "version": "3.9.7"
  }
 },
 "nbformat": 4,
 "nbformat_minor": 5
}
