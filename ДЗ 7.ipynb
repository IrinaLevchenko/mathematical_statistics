{
 "cells": [
  {
   "cell_type": "code",
   "execution_count": 2,
   "id": "75502018",
   "metadata": {},
   "outputs": [],
   "source": [
    "import numpy as np"
   ]
  },
  {
   "cell_type": "markdown",
   "id": "6ff06a1e",
   "metadata": {},
   "source": [
    "1. Даны значения величины заработной платы заемщиков банка (zp) и значения их поведенческого кредитного скоринга (ks): zp = [35, 45, 190, 200, 40, 70, 54, 150, 120, 110], ks = [401, 574, 874, 919, 459, 739, 653, 902, 746, 832]. Используя математические операции, посчитать коэффициенты линейной регрессии, приняв за X заработную плату (то есть, zp - признак), а за y - значения скорингового балла (то есть, ks - целевая переменная). Произвести расчет как с использованием intercept, так и без.\n"
   ]
  },
  {
   "cell_type": "code",
   "execution_count": 16,
   "id": "feb4bb5e",
   "metadata": {},
   "outputs": [],
   "source": [
    "zp = np.array([35, 45, 190, 200, 40, 70, 54, 150, 120, 110]) \n",
    "ks = np.array([401, 574, 874, 919, 459, 739, 653, 902, 746, 832])"
   ]
  },
  {
   "cell_type": "code",
   "execution_count": 17,
   "id": "aba20b83",
   "metadata": {},
   "outputs": [
    {
     "name": "stdout",
     "output_type": "stream",
     "text": [
      "Ответ: уравнение модели линейной регрессии: y = 444.18 + 2.62 * x\n"
     ]
    }
   ],
   "source": [
    "X = zp\n",
    "y = ks\n",
    "\n",
    "b = (np.mean(X * y) - np.mean(X) * np.mean(y)) / (np.mean(X ** 2) - np.mean(X) ** 2)\n",
    "a = np.mean(y) - b * np.mean(X)\n",
    "\n",
    "print(f'Ответ: уравнение модели линейной регрессии с интерсептом: y = {round(a, 2)} + {round(b, 2)} * x')"
   ]
  },
  {
   "cell_type": "code",
   "execution_count": 24,
   "id": "728b209f",
   "metadata": {},
   "outputs": [
    {
     "name": "stdout",
     "output_type": "stream",
     "text": [
      "Ответ: уравнение модели линейной регрессии без интерсепта: y = 5.89 * x\n"
     ]
    }
   ],
   "source": [
    "X = zp.reshape((10, 1))\n",
    "y = ks.reshape((10, 1))\n",
    "\n",
    "B = np.dot(np.linalg.inv(np.dot(X.T, X)), X.T @ y)\n",
    "print(f'Ответ: уравнение модели линейной регрессии без интерсепта: y = {round(float(B), 2)} * x')"
   ]
  },
  {
   "cell_type": "markdown",
   "id": "6abca199",
   "metadata": {},
   "source": [
    "2. В каких случаях для вычисления доверительных интервалов и проверки статистических гипотез используется таблица значений функции Лапласа, а в каких - таблица критических точек распределения Стьюдента?"
   ]
  },
  {
   "cell_type": "markdown",
   "id": "602d724a",
   "metadata": {},
   "source": [
    "Ответ: если известна дисперсия генеральной совокупности, то для вычисления доверительных интервалов и проверки статистических гипотез используется таблица значений функции Лапласа, и наоборот, если  НЕ известна дисперсия генеральной совокупности, то используется таблица критических точек распределения Стьюдента."
   ]
  }
 ],
 "metadata": {
  "kernelspec": {
   "display_name": "Python 3 (ipykernel)",
   "language": "python",
   "name": "python3"
  },
  "language_info": {
   "codemirror_mode": {
    "name": "ipython",
    "version": 3
   },
   "file_extension": ".py",
   "mimetype": "text/x-python",
   "name": "python",
   "nbconvert_exporter": "python",
   "pygments_lexer": "ipython3",
   "version": "3.9.7"
  }
 },
 "nbformat": 4,
 "nbformat_minor": 5
}
