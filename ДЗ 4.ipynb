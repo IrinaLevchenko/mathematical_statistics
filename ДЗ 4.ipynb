{
 "cells": [
  {
   "cell_type": "code",
   "execution_count": 40,
   "id": "460d66ab",
   "metadata": {},
   "outputs": [],
   "source": [
    "import numpy as np\n",
    "from scipy.stats import norm"
   ]
  },
  {
   "cell_type": "markdown",
   "id": "6e18b8c5",
   "metadata": {},
   "source": [
    "1. Случайная непрерывная величина A имеет равномерное распределение на промежутке (200, 800].\n",
    "Найдите ее среднее значение и дисперсию"
   ]
  },
  {
   "cell_type": "code",
   "execution_count": 41,
   "id": "c8237d19",
   "metadata": {},
   "outputs": [
    {
     "name": "stdout",
     "output_type": "stream",
     "text": [
      "Ответ: среднее значение непрерывной величины А равно 500.0\n",
      "Ответ: дисперсия непрерывной величины А равна 30000.0\n"
     ]
    }
   ],
   "source": [
    "a = 200\n",
    "b = 800\n",
    "M = (a + b) / 2\n",
    "D = (b - a) ** 2 / 12\n",
    "\n",
    "print(f'Ответ: среднее значение непрерывной величины А равно {M}')\n",
    "print(f'Ответ: дисперсия непрерывной величины А равна {D}')"
   ]
  },
  {
   "cell_type": "markdown",
   "id": "b8540f4a",
   "metadata": {},
   "source": [
    "2. О случайной непрерывной равномерно распределенной величине B известно, что ее дисперсия равна 0.2.\n",
    "Можно ли найти правую границу величины B и ее среднее значение зная, что левая граница равна 0.5?\n",
    "Если да, найдите ее."
   ]
  },
  {
   "cell_type": "code",
   "execution_count": 42,
   "id": "89d3bb88",
   "metadata": {},
   "outputs": [
    {
     "name": "stdout",
     "output_type": "stream",
     "text": [
      "Ответ: правая граница непрерывной величины B равна 2.05,\n",
      "среднее значение равно 1.27\n"
     ]
    }
   ],
   "source": [
    "a = 0.5\n",
    "D = 0.2\n",
    "\n",
    "b = np.sqrt(12 * D) + a\n",
    "M = (a + b) / 2\n",
    "print(f'Ответ: правая граница непрерывной величины B равна {round(b, 2)},\\nсреднее значение равно {round(M, 2)}')\n"
   ]
  },
  {
   "cell_type": "markdown",
   "id": "cd48f0d0",
   "metadata": {},
   "source": [
    "3. Непрерывная случайная величина X распределена нормально и задана плотностью распределения\n",
    "f(x) = (1 / (4 * sqrt(2*pi))) * (exp(-(x+2)**2) / 32).\n",
    "Найдите:\n",
    "а). M(X)\n",
    "б). D(X)\n",
    "в). std(X) (среднее квадратичное отклонение)\n",
    "\n",
    "$$f(x) = \\frac{1}{\\sigma \\sqrt{2 \\pi}} e ^ {- \\frac{(x - a)^2}{2 \\sigma^2}},$$\n",
    "где $a = M(X), \\; \\sigma^2 = D(X).$\n",
    "\n"
   ]
  },
  {
   "cell_type": "code",
   "execution_count": 43,
   "id": "6d38edd1",
   "metadata": {
    "scrolled": true
   },
   "outputs": [
    {
     "name": "stdout",
     "output_type": "stream",
     "text": [
      "Ответ: а) M(X) = -2, б) D(X) = 16, в) std(X) = 4\n"
     ]
    }
   ],
   "source": [
    "print(f'Ответ: а) M(X) = -2, б) D(X) = 16, в) std(X) = 4')"
   ]
  },
  {
   "cell_type": "markdown",
   "id": "20ea502e",
   "metadata": {},
   "source": [
    "4. Рост взрослого населения города X имеет нормальное распределение.\n",
    "Причем, средний рост равен 174 см, а среднее квадратичное отклонение равно 8 см.\n",
    "Какова вероятность того, что случайным образом выбранный взрослый человек имеет рост:"
   ]
  },
  {
   "cell_type": "code",
   "execution_count": 44,
   "id": "abb912ac",
   "metadata": {},
   "outputs": [],
   "source": [
    "M = 174\n",
    "std = 8"
   ]
  },
  {
   "cell_type": "markdown",
   "id": "41f03361",
   "metadata": {},
   "source": [
    "а). больше 182 см"
   ]
  },
  {
   "cell_type": "code",
   "execution_count": 56,
   "id": "33214847",
   "metadata": {},
   "outputs": [
    {
     "name": "stdout",
     "output_type": "stream",
     "text": [
      "Ответ: P = 15.87%\n"
     ]
    }
   ],
   "source": [
    "Z = (182 - M) / std \n",
    "P = (1 - norm.cdf(Z)) * 100\n",
    "print(f'Ответ: P = {round(P, 2)}%')"
   ]
  },
  {
   "cell_type": "markdown",
   "id": "77750489",
   "metadata": {},
   "source": [
    "б). больше 190 см"
   ]
  },
  {
   "cell_type": "code",
   "execution_count": 58,
   "id": "f3d85ac2",
   "metadata": {},
   "outputs": [
    {
     "name": "stdout",
     "output_type": "stream",
     "text": [
      "Ответ: P = 2.28%\n"
     ]
    }
   ],
   "source": [
    "Z = (190 - M) / std \n",
    "P = (1 - norm.cdf(Z)) * 100\n",
    "print(f'Ответ: P = {round(P, 2)}%')"
   ]
  },
  {
   "cell_type": "markdown",
   "id": "575a6a7a",
   "metadata": {},
   "source": [
    "в). от 166 см до 190 см"
   ]
  },
  {
   "cell_type": "code",
   "execution_count": 60,
   "id": "dbb31c0c",
   "metadata": {},
   "outputs": [
    {
     "name": "stdout",
     "output_type": "stream",
     "text": [
      "Ответ: P = 81.86%\n"
     ]
    }
   ],
   "source": [
    "Z1 = (190 - M) / std \n",
    "Z2 = (166 - M) / std \n",
    "P = (norm.cdf(Z1) - norm.cdf(Z2)) * 100\n",
    "print(f'Ответ: P = {round(P, 2)}%')"
   ]
  },
  {
   "cell_type": "markdown",
   "id": "0e66731f",
   "metadata": {},
   "source": [
    "г). от 166 см до 182 см"
   ]
  },
  {
   "cell_type": "code",
   "execution_count": 61,
   "id": "6a858b96",
   "metadata": {},
   "outputs": [
    {
     "name": "stdout",
     "output_type": "stream",
     "text": [
      "Ответ: P = 68.27%\n"
     ]
    }
   ],
   "source": [
    "Z1 = (182 - M) / std \n",
    "Z2 = (166 - M) / std \n",
    "P = (norm.cdf(Z1) - norm.cdf(Z2)) * 100\n",
    "print(f'Ответ: P = {round(P, 2)}%')"
   ]
  },
  {
   "cell_type": "markdown",
   "id": "2337b6e0",
   "metadata": {},
   "source": [
    "д). от 158 см до 190 см"
   ]
  },
  {
   "cell_type": "code",
   "execution_count": 62,
   "id": "85af7009",
   "metadata": {},
   "outputs": [
    {
     "name": "stdout",
     "output_type": "stream",
     "text": [
      "Ответ: P = 95.45%\n"
     ]
    }
   ],
   "source": [
    "Z1 = (190 - M) / std \n",
    "Z2 = (158 - M) / std \n",
    "P = (norm.cdf(Z1) - norm.cdf(Z2)) * 100\n",
    "print(f'Ответ: P = {round(P, 2)}%')"
   ]
  },
  {
   "cell_type": "markdown",
   "id": "bea70f41",
   "metadata": {},
   "source": [
    "е). не выше 150 см или не ниже 190 см"
   ]
  },
  {
   "cell_type": "code",
   "execution_count": 68,
   "id": "4680cceb",
   "metadata": {},
   "outputs": [
    {
     "name": "stdout",
     "output_type": "stream",
     "text": [
      "Ответ: P = 2.41%\n"
     ]
    }
   ],
   "source": [
    "Z1 = (190 - M) / std \n",
    "Z2 = (150 - M) / std \n",
    "P = (1 - norm.cdf(Z1) + norm.cdf(Z2)) * 100\n",
    "print(f'Ответ: P = {round(P, 2)}%')"
   ]
  },
  {
   "cell_type": "markdown",
   "id": "09525b9f",
   "metadata": {},
   "source": [
    "ё). не выше 150 см или не ниже 198 см"
   ]
  },
  {
   "cell_type": "code",
   "execution_count": 67,
   "id": "84a09e64",
   "metadata": {},
   "outputs": [
    {
     "name": "stdout",
     "output_type": "stream",
     "text": [
      "Ответ: P = 0.27%\n"
     ]
    }
   ],
   "source": [
    "Z1 = (198 - M) / std \n",
    "Z2 = (150 - M) / std \n",
    "P = (1 - norm.cdf(Z1) + norm.cdf(Z2)) * 100\n",
    "print(f'Ответ: P = {round(P, 2)}%')"
   ]
  },
  {
   "cell_type": "markdown",
   "id": "a7dedf0e",
   "metadata": {},
   "source": [
    "ж). ниже 166 см."
   ]
  },
  {
   "cell_type": "code",
   "execution_count": 66,
   "id": "ccfb6d5c",
   "metadata": {},
   "outputs": [
    {
     "name": "stdout",
     "output_type": "stream",
     "text": [
      "Ответ: P = 15.87%\n"
     ]
    }
   ],
   "source": [
    "Z = (166 - M) / std \n",
    "P = norm.cdf(Z) * 100\n",
    "print(f'Ответ: P = {round(P, 2)}%')"
   ]
  },
  {
   "cell_type": "markdown",
   "id": "325322c1",
   "metadata": {},
   "source": [
    "5. На сколько сигм (средних квадратичных отклонений) отклоняется рост человека, равный 190 см, от\n",
    "математического ожидания роста в популяции, в которой M(X) = 178 см и D(X) = 25 кв.см?"
   ]
  },
  {
   "cell_type": "code",
   "execution_count": 73,
   "id": "32668b39",
   "metadata": {},
   "outputs": [
    {
     "name": "stdout",
     "output_type": "stream",
     "text": [
      "Ответ: рост человека отклоняется на 2.4 сигм.\n"
     ]
    }
   ],
   "source": [
    "Z = (190 - 178) / np.sqrt(25) \n",
    "print(f'Ответ: рост человека отклоняется на {Z} сигм.')"
   ]
  }
 ],
 "metadata": {
  "kernelspec": {
   "display_name": "Python 3 (ipykernel)",
   "language": "python",
   "name": "python3"
  },
  "language_info": {
   "codemirror_mode": {
    "name": "ipython",
    "version": 3
   },
   "file_extension": ".py",
   "mimetype": "text/x-python",
   "name": "python",
   "nbconvert_exporter": "python",
   "pygments_lexer": "ipython3",
   "version": "3.9.7"
  }
 },
 "nbformat": 4,
 "nbformat_minor": 5
}
