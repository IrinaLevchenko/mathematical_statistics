{
 "cells": [
  {
   "cell_type": "markdown",
   "id": "001bd779",
   "metadata": {},
   "source": [
    "1. Из колоды в 52 карты извлекаются случайным образом 4 карты. \n",
    "\n",
    "a) Найти вероятность того, что все карты – крести. "
   ]
  },
  {
   "cell_type": "code",
   "execution_count": 95,
   "id": "c35fb5c6",
   "metadata": {},
   "outputs": [],
   "source": [
    "from math import factorial"
   ]
  },
  {
   "cell_type": "code",
   "execution_count": 96,
   "id": "743862cc",
   "metadata": {},
   "outputs": [],
   "source": [
    "def combinations(n, k):\n",
    "    return (factorial(n) / (factorial(k) * factorial(n - k)))\n",
    "\n",
    "\n",
    "def arrangements(n, k):\n",
    "    return factorial(n) / factorial(n - k)"
   ]
  },
  {
   "cell_type": "code",
   "execution_count": 97,
   "id": "31647911",
   "metadata": {},
   "outputs": [
    {
     "name": "stdout",
     "output_type": "stream",
     "text": [
      "Ответ: 0.0026\n"
     ]
    }
   ],
   "source": [
    "number_of_kresti = 52 / 4\n",
    "C_kresti = combinations(int(number_of_kresti), 4)\n",
    "C_all = combinations(52, 4)\n",
    "\n",
    "P = C_kresti / C_all\n",
    "\n",
    "print(f'Ответ: {round(P, 4)}')"
   ]
  },
  {
   "cell_type": "markdown",
   "id": "624ff24c",
   "metadata": {},
   "source": [
    "б) Найти вероятность, что среди 4-х карт окажется хотя бы один туз."
   ]
  },
  {
   "cell_type": "code",
   "execution_count": 98,
   "id": "b56c497f",
   "metadata": {},
   "outputs": [
    {
     "name": "stdout",
     "output_type": "stream",
     "text": [
      "Ответ: 0.2813\n"
     ]
    }
   ],
   "source": [
    "C_one_ais = combinations(4, 1) * combinations(48, 3)\n",
    "C_two_aises = combinations(4, 2) * combinations(48, 2)\n",
    "C_tree_aises = combinations(4, 3) * combinations(48, 1)\n",
    "C_four_aises = combinations(4, 4) \n",
    "\n",
    "C_at_least_one_ais = C_one_ais + C_two_aises + C_tree_aises + C_four_aises\n",
    "\n",
    "P = C_at_least_one_ais / C_all\n",
    "\n",
    "print(f'Ответ: {round(P, 4)}')"
   ]
  },
  {
   "cell_type": "markdown",
   "id": "aa726ad9",
   "metadata": {},
   "source": [
    "2. На входной двери подъезда установлен кодовый замок, содержащий десять кнопок с цифрами от 0 до 9. Код содержит три цифры, которые нужно нажать одновременно. Какова вероятность того, что человек, не знающий код, откроет дверь с первой попытки?\n",
    "\n"
   ]
  },
  {
   "cell_type": "code",
   "execution_count": 127,
   "id": "702bc102",
   "metadata": {
    "scrolled": true
   },
   "outputs": [
    {
     "name": "stdout",
     "output_type": "stream",
     "text": [
      "Ответ: 0.0014\n"
     ]
    }
   ],
   "source": [
    "# если нажать кнопки одноременно, имея ввиду правильный порядок нажатия!\n",
    "win_try = 1 / 1\n",
    "P = win_try / arrangements(10, 3)\n",
    "\n",
    "print(f'Ответ: {round(P, 4)}')"
   ]
  },
  {
   "cell_type": "code",
   "execution_count": 126,
   "id": "3975c338",
   "metadata": {},
   "outputs": [
    {
     "name": "stdout",
     "output_type": "stream",
     "text": [
      "Ответ: 0.0083\n"
     ]
    }
   ],
   "source": [
    "# если нажать кнопки одноременно, то порядок цифр не имеет значения\n",
    "win_try = 1 / 1\n",
    "P = win_try / combinations(10, 3)\n",
    "\n",
    "print(f'Ответ: {round(P, 4)}')"
   ]
  },
  {
   "cell_type": "markdown",
   "id": "a5875557",
   "metadata": {},
   "source": [
    "3. В ящике имеется 15 деталей, из которых 9 окрашены. Рабочий случайным образом извлекает 3 детали. Какова вероятность того, что все извлеченные детали окрашены?\n",
    "\n"
   ]
  },
  {
   "cell_type": "code",
   "execution_count": 105,
   "id": "5aa958a3",
   "metadata": {},
   "outputs": [
    {
     "name": "stdout",
     "output_type": "stream",
     "text": [
      "Ответ: 0.1846\n"
     ]
    }
   ],
   "source": [
    "C_colored_balls = combinations(9, 3)\n",
    "C_all = combinations(15, 3)\n",
    "\n",
    "P = C_colored_balls / C_all\n",
    "\n",
    "print(f'Ответ: {round(P, 4)}')"
   ]
  },
  {
   "cell_type": "markdown",
   "id": "b899491d",
   "metadata": {},
   "source": [
    "4. В лотерее 100 билетов. Из них 2 выигрышных. Какова вероятность того, что 2 приобретенных билета окажутся выигрышными?"
   ]
  },
  {
   "cell_type": "code",
   "execution_count": 125,
   "id": "b6b6fad2",
   "metadata": {},
   "outputs": [
    {
     "name": "stdout",
     "output_type": "stream",
     "text": [
      "Ответ: 0.0002\n"
     ]
    }
   ],
   "source": [
    "C_win = combinations(100, 2)\n",
    "win_tickets = 2 / 2\n",
    "P = win_tickets / C_win\n",
    "\n",
    "print(f'Ответ: {round(P, 4)}')"
   ]
  }
 ],
 "metadata": {
  "kernelspec": {
   "display_name": "Python 3 (ipykernel)",
   "language": "python",
   "name": "python3"
  },
  "language_info": {
   "codemirror_mode": {
    "name": "ipython",
    "version": 3
   },
   "file_extension": ".py",
   "mimetype": "text/x-python",
   "name": "python",
   "nbconvert_exporter": "python",
   "pygments_lexer": "ipython3",
   "version": "3.9.12"
  }
 },
 "nbformat": 4,
 "nbformat_minor": 5
}
