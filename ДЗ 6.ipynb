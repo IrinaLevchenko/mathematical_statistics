{
 "cells": [
  {
   "cell_type": "code",
   "execution_count": 63,
   "id": "3d71b334",
   "metadata": {},
   "outputs": [],
   "source": [
    "import numpy as np\n",
    "import pandas as pd\n",
    "from scipy import stats"
   ]
  },
  {
   "cell_type": "markdown",
   "id": "4e617d86",
   "metadata": {},
   "source": [
    "1. Даны значения величины заработной платы заемщиков банка (zp) и значения их поведенческого кредитного скоринга (ks):\n",
    "zp = [35, 45, 190, 200, 40, 70, 54, 150, 120, 110],\n",
    "ks = [401, 574, 874, 919, 459, 739, 653, 902, 746, 832].\n",
    "Найдите ковариацию этих двух величин с помощью элементарных действий, а затем с помощью функции cov из numpy.\n",
    "Полученные значения должны быть равны.\n",
    "Найдите коэффициент корреляции Пирсона с помощью ковариации и среднеквадратичных отклонений двух признаков,\n",
    "а затем с использованием функций из библиотек numpy и pandas."
   ]
  },
  {
   "cell_type": "code",
   "execution_count": 27,
   "id": "7e30c34e",
   "metadata": {},
   "outputs": [
    {
     "name": "stdout",
     "output_type": "stream",
     "text": [
      "Ответ: ковариация, посчитанная элементарно: 9157.84\n",
      "Ответ: ковариация, посчитанная с помощью numpy: 9157.84\n"
     ]
    }
   ],
   "source": [
    "zp = np.array([35, 45, 190, 200, 40, 70, 54, 150, 120, 110])\n",
    "ks = np.array([401, 574, 874, 919, 459, 739, 653, 902, 746, 832])\n",
    "\n",
    "cov_elem = round(np.mean(zp * ks) - np.mean(zp) * np.mean(ks), 2)\n",
    "cov_np = np.cov(zp, ks, ddof=0)[0, 1]\n",
    "\n",
    "print(f'Ответ: ковариация, посчитанная элементарно: {cov_elem}')\n",
    "print(f'Ответ: ковариация, посчитанная с помощью numpy: {cov_np}')"
   ]
  },
  {
   "cell_type": "code",
   "execution_count": 61,
   "id": "2d0ed9a1",
   "metadata": {},
   "outputs": [
    {
     "name": "stdout",
     "output_type": "stream",
     "text": [
      "Ответ: коэффициент корреляции Пирсона, посчитанный элементарно: 0.8875\n",
      "Ответ: коэффициент корреляции Пирсона, посчитанный с помощью numpy: 0.8875\n"
     ]
    }
   ],
   "source": [
    "r_elem = cov_np / (np.std(zp, ddof=0) * np.std(ks, ddof=0))\n",
    "r_np = np.corrcoef(zp, ks)[0, 1]\n",
    "\n",
    "print(f'Ответ: коэффициент корреляции Пирсона, посчитанный элементарно: {round(r_elem, 4)}')\n",
    "print(f'Ответ: коэффициент корреляции Пирсона, посчитанный с помощью numpy: {round(r_np, 4)}')"
   ]
  },
  {
   "cell_type": "code",
   "execution_count": 60,
   "id": "ec2cc41c",
   "metadata": {},
   "outputs": [
    {
     "name": "stdout",
     "output_type": "stream",
     "text": [
      "Ответ: коэффициент Пирсона, посчитанный с помощью pandas: 0.8875\n"
     ]
    }
   ],
   "source": [
    "df = pd.DataFrame({'zp': zp, 'ks': ks}, columns=['zp', 'ks'])\n",
    "r_pd = df.corr().values[0, 1]\n",
    "\n",
    "print(f'Ответ: коэффициент Пирсона, посчитанный с помощью pandas: {round(r_pd, 4)}')"
   ]
  },
  {
   "cell_type": "markdown",
   "id": "e2c5e53a",
   "metadata": {},
   "source": [
    "2. Измерены значения IQ выборки студентов,\n",
    "обучающихся в местных технических вузах:\n",
    "131, 125, 115, 122, 131, 115, 107, 99, 125, 111.\n",
    "Известно, что в генеральной совокупности IQ распределен нормально.\n",
    "Найдите доверительный интервал для математического ожидания с надежностью 0.95."
   ]
  },
  {
   "cell_type": "code",
   "execution_count": 80,
   "id": "9c6e67d5",
   "metadata": {},
   "outputs": [
    {
     "name": "stdout",
     "output_type": "stream",
     "text": [
      "Ответ: доверительный интервал для математического ожидания [110.56; 125.64]\n"
     ]
    }
   ],
   "source": [
    "x = np.array([131, 125, 115, 122, 131, 115, 107, 99, 125, 111])\n",
    "alpha = 1 - 0.95\n",
    "\n",
    "M_X = np.mean(x)\n",
    "std = np.std(x, ddof=1)\n",
    "n = x.size\n",
    "v =  n - 1\n",
    "t_half_alpha = stats.t.ppf(alpha / 2, v)\n",
    "\n",
    "T1 = M_X + t_half_alpha * std / np.sqrt(n)\n",
    "T2 = M_X - t_half_alpha * std / np.sqrt(n)\n",
    "\n",
    "print(f'Ответ: доверительный интервал для математического ожидания [{round(T1, 2)}; {round(T2, 2)}]')"
   ]
  },
  {
   "cell_type": "markdown",
   "id": "503a7268",
   "metadata": {},
   "source": [
    "3. Известно, что рост футболистов в сборной распределен нормально\n",
    "с дисперсией генеральной совокупности, равной 25 кв.см. Объем выборки равен 27,\n",
    "среднее выборочное составляет 174.2. Найдите доверительный интервал для математического\n",
    "ожидания с надежностью 0.95."
   ]
  },
  {
   "cell_type": "code",
   "execution_count": 83,
   "id": "e02538e6",
   "metadata": {},
   "outputs": [
    {
     "name": "stdout",
     "output_type": "stream",
     "text": [
      "Ответ: доверительный интервал для математического ожидания [172.31; 176.09]\n"
     ]
    }
   ],
   "source": [
    "std = np.sqrt(25)\n",
    "n = 27\n",
    "M_X = 174.2\n",
    "alpha = 1 - 0.95\n",
    "\n",
    "Z_half_alpha = stats.norm.ppf(alpha / 2)\n",
    "\n",
    "T1 = M_X + Z_half_alpha * std / np.sqrt(n)\n",
    "T2 = M_X - Z_half_alpha * std / np.sqrt(n)\n",
    "\n",
    "print(f'Ответ: доверительный интервал для математического ожидания [{round(T1, 2)}; {round(T2, 2)}]')"
   ]
  }
 ],
 "metadata": {
  "kernelspec": {
   "display_name": "Python 3 (ipykernel)",
   "language": "python",
   "name": "python3"
  },
  "language_info": {
   "codemirror_mode": {
    "name": "ipython",
    "version": 3
   },
   "file_extension": ".py",
   "mimetype": "text/x-python",
   "name": "python",
   "nbconvert_exporter": "python",
   "pygments_lexer": "ipython3",
   "version": "3.9.7"
  }
 },
 "nbformat": 4,
 "nbformat_minor": 5
}
