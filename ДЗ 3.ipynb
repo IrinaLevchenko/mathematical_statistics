{
 "cells": [
  {
   "cell_type": "code",
   "execution_count": 35,
   "id": "b0eb16a4",
   "metadata": {},
   "outputs": [],
   "source": [
    "import numpy as np\n",
    "from math import factorial"
   ]
  },
  {
   "cell_type": "markdown",
   "id": "6cd86095",
   "metadata": {},
   "source": [
    "1. Даны значения зарплат из выборки выпускников: 100, 80, 75, 77, 89, 33, 45, 25, 65, 17, 30, 24, 57, 55, 70, 75, 65, 84, 90, 150. Посчитать (желательно без использования статистических методов наподобие std, var, mean) среднее арифметическое, среднее квадратичное отклонение, смещенную и несмещенную оценки дисперсий для данной выборки."
   ]
  },
  {
   "cell_type": "code",
   "execution_count": 44,
   "id": "af93d923",
   "metadata": {},
   "outputs": [],
   "source": [
    "salary = np.array([100, 80, 75, 77, 89, 33, 45, 25, 65, 17, 30, 24, 57, 55, 70, 75, 65, 84, 90, 150])"
   ]
  },
  {
   "cell_type": "code",
   "execution_count": 45,
   "id": "f5d3a962",
   "metadata": {},
   "outputs": [
    {
     "data": {
      "text/plain": [
       "(65.3, 65.3)"
      ]
     },
     "execution_count": 45,
     "metadata": {},
     "output_type": "execute_result"
    }
   ],
   "source": [
    "# среднее арифметическое\n",
    "mean_salary = salary.sum() / salary.shape[0]\n",
    "mean_salary, salary.mean()"
   ]
  },
  {
   "cell_type": "code",
   "execution_count": 46,
   "id": "43b9eac3",
   "metadata": {},
   "outputs": [
    {
     "data": {
      "text/plain": [
       "(30.823854398825596, 30.823854398825596)"
      ]
     },
     "execution_count": 46,
     "metadata": {},
     "output_type": "execute_result"
    }
   ],
   "source": [
    "# среднее квадратичное отклонение\n",
    "std_salary = np.sqrt(((salary - mean_salary) ** 2).sum() / salary.shape[0])\n",
    "std_salary, salary.std()"
   ]
  },
  {
   "cell_type": "code",
   "execution_count": 47,
   "id": "5c1eac12",
   "metadata": {},
   "outputs": [
    {
     "data": {
      "text/plain": [
       "(950.11, 950.11)"
      ]
     },
     "execution_count": 47,
     "metadata": {},
     "output_type": "execute_result"
    }
   ],
   "source": [
    "# смещенная оценка дисперсии \n",
    "var_biased_salary = ((salary - mean_salary) ** 2).sum() / salary.shape[0]\n",
    "var_biased_salary, salary.var()"
   ]
  },
  {
   "cell_type": "code",
   "execution_count": 48,
   "id": "f59b1459",
   "metadata": {},
   "outputs": [
    {
     "data": {
      "text/plain": [
       "(1000.1157894736842, 1000.1157894736842)"
      ]
     },
     "execution_count": 48,
     "metadata": {},
     "output_type": "execute_result"
    }
   ],
   "source": [
    "# несмещенная оценка дисперсии \n",
    "var_unbiased_salary = ((salary - mean_salary) ** 2).sum() / (salary.shape[0] - 1)\n",
    "var_unbiased_salary, salary.var(ddof=1)"
   ]
  },
  {
   "cell_type": "markdown",
   "id": "b1ce469d",
   "metadata": {},
   "source": [
    "2. В первом ящике находится 8 мячей, из которых 5 - белые. Во втором ящике - 12 мячей, из которых 5 белых. Из первого ящика вытаскивают случайным образом два мяча, из второго - 4. Какова вероятность того, что 3 мяча белые?"
   ]
  },
  {
   "cell_type": "code",
   "execution_count": 49,
   "id": "2a6bd0a2",
   "metadata": {},
   "outputs": [
    {
     "name": "stdout",
     "output_type": "stream",
     "text": [
      "Ответ: P(три мяча белые) = 0.0378\n"
     ]
    }
   ],
   "source": [
    "# (2б) * (1б * 3ч)\n",
    "P1 = (5/8 * 4/7) * (5/12 * 7/12 * 6/11 * 5/10)\n",
    "\n",
    "# (1б * 1ч) * (2б * 2ч)\n",
    "P2 = (5/8 * 3/8) * (5/12 * 4/11 * 7/12 * 6/11) \n",
    "\n",
    "# (2ч) * (3б * 1ч)\n",
    "P3 = (3/8 * 2/7) * (5/12 * 4/11 * 3/10 * 7/12)\n",
    "\n",
    "P = P1 + P2 + P3\n",
    "print(f'Ответ: P(три мяча белые) = {round(P, 4)}')"
   ]
  },
  {
   "cell_type": "markdown",
   "id": "b7e88561",
   "metadata": {},
   "source": [
    "3. На соревновании по биатлону один из трех спортсменов стреляет и попадает в мишень. Вероятность попадания для первого спортсмена равна 0.9, для второго — 0.8, для третьего — 0.6. Найти вероятность того, что выстрел произведен: a). первым спортсменом б). вторым спортсменом в). третьим спортсменом."
   ]
  },
  {
   "cell_type": "markdown",
   "id": "4e839876",
   "metadata": {},
   "source": [
    "$$P(B\\:|\\:A) = \\frac{P(B) \\cdot P(A\\:|\\:B)}{P(A)}$$\n",
    "\n",
    "$$P(A\\:|\\:B_1) = 0.9$$\n",
    "\n",
    "$$P(A\\:|\\:B_2) = 0.8$$\n",
    "\n",
    "$$P(A\\:|\\:B_3) = 0.6$$"
   ]
  },
  {
   "cell_type": "code",
   "execution_count": 60,
   "id": "ea237383",
   "metadata": {},
   "outputs": [
    {
     "name": "stdout",
     "output_type": "stream",
     "text": [
      "Ответ а): P(попал в мишень первый спортсмен) = 0.3913\n",
      "Ответ б): P(попал в мишень второй спортсмен) = 0.3478\n",
      "Ответ в): P(попал в мишень третий спортсмен) = 0.2609\n"
     ]
    }
   ],
   "source": [
    "P_A = 1/3 * 0.9 + 1/3 * 0.8 + 1/3 * 0.6\n",
    "\n",
    "P_B1_A = (1/3 * 0.9) / P_A\n",
    "P_B2_A = (1/3 * 0.8) / P_A\n",
    "P_B3_A = (1/3 * 0.6) / P_A\n",
    "\n",
    "print(f'Ответ а): P(попал в мишень первый спортсмен) = {round(P_B1_A, 4)}')\n",
    "print(f'Ответ б): P(попал в мишень второй спортсмен) = {round(P_B2_A, 4)}')\n",
    "print(f'Ответ в): P(попал в мишень третий спортсмен) = {round(P_B3_A, 4)}')"
   ]
  },
  {
   "cell_type": "markdown",
   "id": "6e3a0c35",
   "metadata": {},
   "source": [
    "4. В университет на факультеты A и B поступило равное количество студентов, а на факультет C студентов поступило столько же, сколько на A и B вместе. Вероятность того, что студент факультета A сдаст первую сессию, равна 0.8. Для студента факультета B эта вероятность равна 0.7, а для студента факультета C - 0.9. Студент сдал первую сессию. Какова вероятность, что он учится: a). на факультете A б). на факультете B в). на факультете C?"
   ]
  },
  {
   "cell_type": "markdown",
   "id": "f8ca6474",
   "metadata": {},
   "source": [
    "$$P(B\\:|\\:A) = \\frac{P(B) \\cdot P(A\\:|\\:B)}{P(A)}$$\n",
    "\n",
    "$$P(A\\:|\\:B_A) = 0.8$$\n",
    "\n",
    "$$P(A\\:|\\:B_B) = 0.7$$\n",
    "\n",
    "$$P(A\\:|\\:B_C) = 0.9$$"
   ]
  },
  {
   "cell_type": "code",
   "execution_count": 63,
   "id": "6782ef04",
   "metadata": {},
   "outputs": [
    {
     "name": "stdout",
     "output_type": "stream",
     "text": [
      "Ответ а): P(студент учится на факультете A) = 0.2424\n",
      "Ответ б): P(студент учится на факультете B) = 0.2121\n",
      "Ответ в): P(студент учится на факультете C) = 0.5455\n"
     ]
    }
   ],
   "source": [
    "P_A = 1/4 * 0.8 + 1/4 * 0.7 + 1/2 * 0.9\n",
    "\n",
    "P_B1_A = (1/4 * 0.8) / P_A\n",
    "P_B2_B = (1/4 * 0.7) / P_A\n",
    "P_B3_C = (1/2 * 0.9) / P_A\n",
    "\n",
    "print(f'Ответ а): P(студент учится на факультете A) = {round(P_B1_A, 4)}')\n",
    "print(f'Ответ б): P(студент учится на факультете B) = {round(P_B2_B, 4)}')\n",
    "print(f'Ответ в): P(студент учится на факультете C) = {round(P_B3_C, 4)}')"
   ]
  },
  {
   "cell_type": "markdown",
   "id": "f31af35e",
   "metadata": {},
   "source": [
    "5. Устройство состоит из трех деталей. Для первой детали вероятность выйти из строя в первый месяц равна 0.1, для второй - 0.2, для третьей - 0.25. Какова вероятность того, что в первый месяц выйдут из строя: а). все детали б). только две детали в). хотя бы одна деталь г). от одной до двух деталей?"
   ]
  },
  {
   "cell_type": "code",
   "execution_count": 72,
   "id": "6fde98f4",
   "metadata": {},
   "outputs": [
    {
     "name": "stdout",
     "output_type": "stream",
     "text": [
      "Ответ а): P(в первый месяц выйдут из строя все детали) = 0.005\n",
      "Ответ б): P(в первый месяц выйдут из строя только две детали) = 0.08\n",
      "Ответ в): P(в первый месяц выйдут из строя хотя бы одна деталь) = 0.46\n",
      "Ответ в): P(в первый месяц выйдут из строя от одной до двух деталей) = 0.455\n"
     ]
    }
   ],
   "source": [
    "p1 = 0.1\n",
    "p2 = 0.2\n",
    "p3 = 0.25\n",
    "\n",
    "q1 = 1 - 0.1\n",
    "q2 = 1 - 0.2\n",
    "q3 = 1 - 0.25\n",
    "\n",
    "P_a = p1 * p2 * p3\n",
    "P_b = p1 * p2 * q3 + p1 * q2 * p3 + q1 * p2 * p3 \n",
    "P_v = 1 - (q1 * q2 * q3)\n",
    "P_g = (p1 * q2 * q3 + q1 * p2 * q3 + q1 * q2 * p3) + P_b \n",
    "\n",
    "print(f'Ответ а): P(в первый месяц выйдут из строя все детали) = {round(P_a, 4)}')\n",
    "print(f'Ответ б): P(в первый месяц выйдут из строя только две детали) = {round(P_b, 4)}')\n",
    "print(f'Ответ в): P(в первый месяц выйдут из строя хотя бы одна деталь) = {round(P_v, 4)}')\n",
    "print(f'Ответ в): P(в первый месяц выйдут из строя от одной до двух деталей) = {round(P_g, 4)}')"
   ]
  }
 ],
 "metadata": {
  "kernelspec": {
   "display_name": "Python 3 (ipykernel)",
   "language": "python",
   "name": "python3"
  },
  "language_info": {
   "codemirror_mode": {
    "name": "ipython",
    "version": 3
   },
   "file_extension": ".py",
   "mimetype": "text/x-python",
   "name": "python",
   "nbconvert_exporter": "python",
   "pygments_lexer": "ipython3",
   "version": "3.9.7"
  }
 },
 "nbformat": 4,
 "nbformat_minor": 5
}
